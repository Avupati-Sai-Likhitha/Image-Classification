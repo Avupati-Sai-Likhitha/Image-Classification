{
  "nbformat": 4,
  "nbformat_minor": 0,
  "metadata": {
    "colab": {
      "name": "Image Classification using SVM.ipynb",
      "provenance": [],
      "collapsed_sections": [],
      "mount_file_id": "1CwOW3KmVKTYzu917_UmjE9PZvkfVaBKS",
      "authorship_tag": "ABX9TyOW0oJBwzuVsb5jcz9UUWRN",
      "include_colab_link": true
    },
    "kernelspec": {
      "display_name": "Python 3",
      "name": "python3"
    },
    "language_info": {
      "name": "python"
    }
  },
  "cells": [
    {
      "cell_type": "markdown",
      "metadata": {
        "id": "view-in-github",
        "colab_type": "text"
      },
      "source": [
        "<a href=\"https://colab.research.google.com/github/Avupati-Sai-Likhitha/Image-Classification/blob/main/Image_Classification_using_SVM.ipynb\" target=\"_parent\"><img src=\"https://colab.research.google.com/assets/colab-badge.svg\" alt=\"Open In Colab\"/></a>"
      ]
    },
    {
      "cell_type": "markdown",
      "metadata": {
        "id": "d6nKK2W8oxRc"
      },
      "source": [
        "**Importing libraries and modules**"
      ]
    },
    {
      "cell_type": "code",
      "metadata": {
        "id": "MKsHuLt0lTC9"
      },
      "source": [
        "import numpy as np\n",
        "import pandas as pd\n",
        "import matplotlib.pyplot as plt\n",
        "from skimage.io import imread\n",
        "from skimage.transform import resize\n",
        "import os"
      ],
      "execution_count": null,
      "outputs": []
    },
    {
      "cell_type": "markdown",
      "metadata": {
        "id": "CnM9w8ekeUwV"
      },
      "source": [
        "**Preprocessing Images**"
      ]
    },
    {
      "cell_type": "code",
      "metadata": {
        "id": "NxJM-FeRjW4y"
      },
      "source": [
        "dir = '/content/drive/MyDrive/ML/Images'\n",
        "\n",
        "categories = ['Mango','Brinjal'] \n",
        "target = []\n",
        "images = []\n",
        "flat_data = []\n",
        "\n",
        "for i in categories:\n",
        "  num = categories.index(i)\n",
        "  path = os.path.join(dir,i)\n",
        "  for img in os.listdir(path):\n",
        "    img_array = imread(os.path.join(path,img))\n",
        "    img_resized = resize(img_array,(150,150,3)) \n",
        "    # Flattening images\n",
        "    flat_data.append(img_resized.flatten())\n",
        "    images.append(img_resized)\n",
        "    target.append(num)\n",
        "\n",
        "flat_data = np.array(flat_data)\n",
        "target = np.array(target)\n",
        "images = np.array(images)"
      ],
      "execution_count": null,
      "outputs": []
    },
    {
      "cell_type": "code",
      "metadata": {
        "colab": {
          "base_uri": "https://localhost:8080/"
        },
        "id": "J4sAk03C62M3",
        "outputId": "89d30e5b-db90-4baa-f321-7239ea766ffa"
      },
      "source": [
        "print(flat_data[0])\n",
        "print(target)"
      ],
      "execution_count": null,
      "outputs": [
        {
          "output_type": "stream",
          "text": [
            "[0.82745098 0.8627451  0.65294118 ... 0.54117647 0.42745098 0.39019608]\n",
            "[0 0 0 0 0 0 0 0 0 0 0 0 0 0 0 0 0 0 0 0 0 0 0 0 0 0 0 0 0 0 1 1 1 1 1 1 1\n",
            " 1 1 1 1 1 1 1 1 1 1 1 1 1 1 1 1 1 1 1 1 1 1 1]\n"
          ],
          "name": "stdout"
        }
      ]
    },
    {
      "cell_type": "code",
      "metadata": {
        "colab": {
          "base_uri": "https://localhost:8080/",
          "height": 282
        },
        "id": "SVOd_XtU78Lc",
        "outputId": "6fcaab8a-03c9-40fb-ef79-5f8a7bc8efac"
      },
      "source": [
        "unique, count = np.unique(target,return_counts=True)\n",
        "plt.bar(categories,count)"
      ],
      "execution_count": null,
      "outputs": [
        {
          "output_type": "execute_result",
          "data": {
            "text/plain": [
              "<BarContainer object of 2 artists>"
            ]
          },
          "metadata": {
            "tags": []
          },
          "execution_count": 4
        },
        {
          "output_type": "display_data",
          "data": {
            "image/png": "[encoded data removed]",
            "text/plain": [
              "<Figure size 432x288 with 1 Axes>"
            ]
          },
          "metadata": {
            "tags": [],
            "needs_background": "light"
          }
        }
      ]
    },
    {
      "cell_type": "markdown",
      "metadata": {
        "id": "zUovY1gQfL9V"
      },
      "source": [
        "**Creating Dataframe**"
      ]
    },
    {
      "cell_type": "code",
      "metadata": {
        "colab": {
          "base_uri": "https://localhost:8080/",
          "height": 244
        },
        "id": "c1MWVcRE8GIK",
        "outputId": "e0d12179-db8c-4a4e-b6cb-3068d86a0486"
      },
      "source": [
        "df = pd.DataFrame(flat_data)\n",
        "df['Target'] = target\n",
        "df.head()"
      ],
      "execution_count": null,
      "outputs": [
        {
          "output_type": "execute_result",
          "data": {
            "text/html": [
              "<div>\n",
              "<style scoped>\n",
              "    .dataframe tbody tr th:only-of-type {\n",
              "        vertical-align: middle;\n",
              "    }\n",
              "\n",
              "    .dataframe tbody tr th {\n",
              "        vertical-align: top;\n",
              "    }\n",
              "\n",
              "    .dataframe thead th {\n",
              "        text-align: right;\n",
              "    }\n",
              "</style>\n",
              "<table border=\"1\" class=\"dataframe\">\n",
              "  <thead>\n",
              "    <tr style=\"text-align: right;\">\n",
              "      <th></th>\n",
              "      <th>0</th>\n",
              "      <th>1</th>\n",
              "      <th>2</th>\n",
              "      <th>3</th>\n",
              "      <th>4</th>\n",
              "      <th>5</th>\n",
              "      <th>6</th>\n",
              "      <th>7</th>\n",
              "      <th>8</th>\n",
              "      <th>9</th>\n",
              "      <th>10</th>\n",
              "      <th>11</th>\n",
              "      <th>12</th>\n",
              "      <th>13</th>\n",
              "      <th>14</th>\n",
              "      <th>15</th>\n",
              "      <th>16</th>\n",
              "      <th>17</th>\n",
              "      <th>18</th>\n",
              "      <th>19</th>\n",
              "      <th>20</th>\n",
              "      <th>21</th>\n",
              "      <th>22</th>\n",
              "      <th>23</th>\n",
              "      <th>24</th>\n",
              "      <th>25</th>\n",
              "      <th>26</th>\n",
              "      <th>27</th>\n",
              "      <th>28</th>\n",
              "      <th>29</th>\n",
              "      <th>30</th>\n",
              "      <th>31</th>\n",
              "      <th>32</th>\n",
              "      <th>33</th>\n",
              "      <th>34</th>\n",
              "      <th>35</th>\n",
              "      <th>36</th>\n",
              "      <th>37</th>\n",
              "      <th>38</th>\n",
              "      <th>39</th>\n",
              "      <th>...</th>\n",
              "      <th>67461</th>\n",
              "      <th>67462</th>\n",
              "      <th>67463</th>\n",
              "      <th>67464</th>\n",
              "      <th>67465</th>\n",
              "      <th>67466</th>\n",
              "      <th>67467</th>\n",
              "      <th>67468</th>\n",
              "      <th>67469</th>\n",
              "      <th>67470</th>\n",
              "      <th>67471</th>\n",
              "      <th>67472</th>\n",
              "      <th>67473</th>\n",
              "      <th>67474</th>\n",
              "      <th>67475</th>\n",
              "      <th>67476</th>\n",
              "      <th>67477</th>\n",
              "      <th>67478</th>\n",
              "      <th>67479</th>\n",
              "      <th>67480</th>\n",
              "      <th>67481</th>\n",
              "      <th>67482</th>\n",
              "      <th>67483</th>\n",
              "      <th>67484</th>\n",
              "      <th>67485</th>\n",
              "      <th>67486</th>\n",
              "      <th>67487</th>\n",
              "      <th>67488</th>\n",
              "      <th>67489</th>\n",
              "      <th>67490</th>\n",
              "      <th>67491</th>\n",
              "      <th>67492</th>\n",
              "      <th>67493</th>\n",
              "      <th>67494</th>\n",
              "      <th>67495</th>\n",
              "      <th>67496</th>\n",
              "      <th>67497</th>\n",
              "      <th>67498</th>\n",
              "      <th>67499</th>\n",
              "      <th>Target</th>\n",
              "    </tr>\n",
              "  </thead>\n",
              "  <tbody>\n",
              "    <tr>\n",
              "      <th>0</th>\n",
              "      <td>0.827451</td>\n",
              "      <td>0.862745</td>\n",
              "      <td>0.652941</td>\n",
              "      <td>0.839216</td>\n",
              "      <td>0.870588</td>\n",
              "      <td>0.692157</td>\n",
              "      <td>0.848039</td>\n",
              "      <td>0.882353</td>\n",
              "      <td>0.711765</td>\n",
              "      <td>0.854902</td>\n",
              "      <td>0.882353</td>\n",
              "      <td>0.749020</td>\n",
              "      <td>0.858824</td>\n",
              "      <td>0.886275</td>\n",
              "      <td>0.771569</td>\n",
              "      <td>0.845098</td>\n",
              "      <td>0.879412</td>\n",
              "      <td>0.787255</td>\n",
              "      <td>0.835294</td>\n",
              "      <td>0.870588</td>\n",
              "      <td>0.788235</td>\n",
              "      <td>0.842157</td>\n",
              "      <td>0.877451</td>\n",
              "      <td>0.795098</td>\n",
              "      <td>0.856863</td>\n",
              "      <td>0.894118</td>\n",
              "      <td>0.803922</td>\n",
              "      <td>0.870588</td>\n",
              "      <td>0.909804</td>\n",
              "      <td>0.809804</td>\n",
              "      <td>0.882353</td>\n",
              "      <td>0.909804</td>\n",
              "      <td>0.819608</td>\n",
              "      <td>0.877451</td>\n",
              "      <td>0.906863</td>\n",
              "      <td>0.812745</td>\n",
              "      <td>0.867647</td>\n",
              "      <td>0.899020</td>\n",
              "      <td>0.804902</td>\n",
              "      <td>0.857843</td>\n",
              "      <td>...</td>\n",
              "      <td>0.435294</td>\n",
              "      <td>0.197059</td>\n",
              "      <td>0.023529</td>\n",
              "      <td>0.434314</td>\n",
              "      <td>0.199020</td>\n",
              "      <td>0.023529</td>\n",
              "      <td>0.433333</td>\n",
              "      <td>0.199020</td>\n",
              "      <td>0.023529</td>\n",
              "      <td>0.437255</td>\n",
              "      <td>0.196078</td>\n",
              "      <td>0.021569</td>\n",
              "      <td>0.454902</td>\n",
              "      <td>0.207843</td>\n",
              "      <td>0.011765</td>\n",
              "      <td>0.442157</td>\n",
              "      <td>0.197059</td>\n",
              "      <td>0.016667</td>\n",
              "      <td>0.411765</td>\n",
              "      <td>0.178431</td>\n",
              "      <td>0.026471</td>\n",
              "      <td>0.398039</td>\n",
              "      <td>0.165686</td>\n",
              "      <td>0.016667</td>\n",
              "      <td>0.337255</td>\n",
              "      <td>0.135294</td>\n",
              "      <td>0.019608</td>\n",
              "      <td>0.273529</td>\n",
              "      <td>0.106863</td>\n",
              "      <td>0.019608</td>\n",
              "      <td>0.309804</td>\n",
              "      <td>0.123529</td>\n",
              "      <td>0.028431</td>\n",
              "      <td>0.417647</td>\n",
              "      <td>0.194118</td>\n",
              "      <td>0.052941</td>\n",
              "      <td>0.541176</td>\n",
              "      <td>0.427451</td>\n",
              "      <td>0.390196</td>\n",
              "      <td>0</td>\n",
              "    </tr>\n",
              "    <tr>\n",
              "      <th>1</th>\n",
              "      <td>0.121569</td>\n",
              "      <td>0.121569</td>\n",
              "      <td>0.121569</td>\n",
              "      <td>0.199722</td>\n",
              "      <td>0.200039</td>\n",
              "      <td>0.199722</td>\n",
              "      <td>0.339869</td>\n",
              "      <td>0.351634</td>\n",
              "      <td>0.355556</td>\n",
              "      <td>0.618431</td>\n",
              "      <td>0.628710</td>\n",
              "      <td>0.661569</td>\n",
              "      <td>0.682353</td>\n",
              "      <td>0.690196</td>\n",
              "      <td>0.733333</td>\n",
              "      <td>0.678431</td>\n",
              "      <td>0.686275</td>\n",
              "      <td>0.722314</td>\n",
              "      <td>0.676631</td>\n",
              "      <td>0.682353</td>\n",
              "      <td>0.721569</td>\n",
              "      <td>0.690196</td>\n",
              "      <td>0.690569</td>\n",
              "      <td>0.733333</td>\n",
              "      <td>0.698039</td>\n",
              "      <td>0.701961</td>\n",
              "      <td>0.751242</td>\n",
              "      <td>0.694118</td>\n",
              "      <td>0.698039</td>\n",
              "      <td>0.749020</td>\n",
              "      <td>0.566667</td>\n",
              "      <td>0.565490</td>\n",
              "      <td>0.609804</td>\n",
              "      <td>0.191895</td>\n",
              "      <td>0.207582</td>\n",
              "      <td>0.231285</td>\n",
              "      <td>0.086275</td>\n",
              "      <td>0.098693</td>\n",
              "      <td>0.117647</td>\n",
              "      <td>0.082353</td>\n",
              "      <td>...</td>\n",
              "      <td>0.780392</td>\n",
              "      <td>0.780392</td>\n",
              "      <td>0.780392</td>\n",
              "      <td>0.776471</td>\n",
              "      <td>0.776471</td>\n",
              "      <td>0.776471</td>\n",
              "      <td>0.775725</td>\n",
              "      <td>0.775725</td>\n",
              "      <td>0.775725</td>\n",
              "      <td>0.779647</td>\n",
              "      <td>0.779647</td>\n",
              "      <td>0.779647</td>\n",
              "      <td>0.793111</td>\n",
              "      <td>0.793111</td>\n",
              "      <td>0.793111</td>\n",
              "      <td>0.811020</td>\n",
              "      <td>0.811020</td>\n",
              "      <td>0.814941</td>\n",
              "      <td>0.823529</td>\n",
              "      <td>0.821408</td>\n",
              "      <td>0.838471</td>\n",
              "      <td>0.837306</td>\n",
              "      <td>0.834549</td>\n",
              "      <td>0.847059</td>\n",
              "      <td>0.843137</td>\n",
              "      <td>0.843137</td>\n",
              "      <td>0.854678</td>\n",
              "      <td>0.847059</td>\n",
              "      <td>0.843137</td>\n",
              "      <td>0.862745</td>\n",
              "      <td>0.847059</td>\n",
              "      <td>0.843137</td>\n",
              "      <td>0.862745</td>\n",
              "      <td>0.835369</td>\n",
              "      <td>0.835369</td>\n",
              "      <td>0.854902</td>\n",
              "      <td>0.835294</td>\n",
              "      <td>0.831373</td>\n",
              "      <td>0.850980</td>\n",
              "      <td>0</td>\n",
              "    </tr>\n",
              "    <tr>\n",
              "      <th>2</th>\n",
              "      <td>0.866013</td>\n",
              "      <td>0.408876</td>\n",
              "      <td>0.248521</td>\n",
              "      <td>0.566203</td>\n",
              "      <td>0.240248</td>\n",
              "      <td>0.133797</td>\n",
              "      <td>0.442913</td>\n",
              "      <td>0.173322</td>\n",
              "      <td>0.127845</td>\n",
              "      <td>0.425386</td>\n",
              "      <td>0.173477</td>\n",
              "      <td>0.153216</td>\n",
              "      <td>0.423889</td>\n",
              "      <td>0.169556</td>\n",
              "      <td>0.166562</td>\n",
              "      <td>0.464327</td>\n",
              "      <td>0.168627</td>\n",
              "      <td>0.185242</td>\n",
              "      <td>0.442209</td>\n",
              "      <td>0.152013</td>\n",
              "      <td>0.159083</td>\n",
              "      <td>0.627660</td>\n",
              "      <td>0.270693</td>\n",
              "      <td>0.302634</td>\n",
              "      <td>0.792810</td>\n",
              "      <td>0.471346</td>\n",
              "      <td>0.513556</td>\n",
              "      <td>0.811765</td>\n",
              "      <td>0.590850</td>\n",
              "      <td>0.634486</td>\n",
              "      <td>0.811765</td>\n",
              "      <td>0.621000</td>\n",
              "      <td>0.664137</td>\n",
              "      <td>0.811765</td>\n",
              "      <td>0.634656</td>\n",
              "      <td>0.664102</td>\n",
              "      <td>0.811266</td>\n",
              "      <td>0.648261</td>\n",
              "      <td>0.664601</td>\n",
              "      <td>0.824458</td>\n",
              "      <td>...</td>\n",
              "      <td>0.843137</td>\n",
              "      <td>0.659752</td>\n",
              "      <td>0.761712</td>\n",
              "      <td>0.844065</td>\n",
              "      <td>0.628758</td>\n",
              "      <td>0.744978</td>\n",
              "      <td>0.837255</td>\n",
              "      <td>0.397575</td>\n",
              "      <td>0.536791</td>\n",
              "      <td>0.778810</td>\n",
              "      <td>0.126902</td>\n",
              "      <td>0.260081</td>\n",
              "      <td>0.767545</td>\n",
              "      <td>0.233009</td>\n",
              "      <td>0.364915</td>\n",
              "      <td>0.752941</td>\n",
              "      <td>0.337150</td>\n",
              "      <td>0.464137</td>\n",
              "      <td>0.698314</td>\n",
              "      <td>0.211765</td>\n",
              "      <td>0.314000</td>\n",
              "      <td>0.609305</td>\n",
              "      <td>0.250826</td>\n",
              "      <td>0.253370</td>\n",
              "      <td>0.518680</td>\n",
              "      <td>0.307484</td>\n",
              "      <td>0.231941</td>\n",
              "      <td>0.421020</td>\n",
              "      <td>0.355007</td>\n",
              "      <td>0.228863</td>\n",
              "      <td>0.376041</td>\n",
              "      <td>0.335399</td>\n",
              "      <td>0.206915</td>\n",
              "      <td>0.414654</td>\n",
              "      <td>0.349484</td>\n",
              "      <td>0.238647</td>\n",
              "      <td>0.443137</td>\n",
              "      <td>0.344444</td>\n",
              "      <td>0.262745</td>\n",
              "      <td>0</td>\n",
              "    </tr>\n",
              "    <tr>\n",
              "      <th>3</th>\n",
              "      <td>0.854902</td>\n",
              "      <td>0.768627</td>\n",
              "      <td>0.705882</td>\n",
              "      <td>0.850980</td>\n",
              "      <td>0.764706</td>\n",
              "      <td>0.701961</td>\n",
              "      <td>0.850980</td>\n",
              "      <td>0.764706</td>\n",
              "      <td>0.701961</td>\n",
              "      <td>0.841176</td>\n",
              "      <td>0.756863</td>\n",
              "      <td>0.694118</td>\n",
              "      <td>0.829412</td>\n",
              "      <td>0.756863</td>\n",
              "      <td>0.701961</td>\n",
              "      <td>0.823529</td>\n",
              "      <td>0.752941</td>\n",
              "      <td>0.698039</td>\n",
              "      <td>0.823529</td>\n",
              "      <td>0.752941</td>\n",
              "      <td>0.698039</td>\n",
              "      <td>0.823529</td>\n",
              "      <td>0.752941</td>\n",
              "      <td>0.698039</td>\n",
              "      <td>0.827451</td>\n",
              "      <td>0.756863</td>\n",
              "      <td>0.701961</td>\n",
              "      <td>0.827451</td>\n",
              "      <td>0.756863</td>\n",
              "      <td>0.705882</td>\n",
              "      <td>0.811765</td>\n",
              "      <td>0.756863</td>\n",
              "      <td>0.717647</td>\n",
              "      <td>0.807843</td>\n",
              "      <td>0.756863</td>\n",
              "      <td>0.721569</td>\n",
              "      <td>0.794118</td>\n",
              "      <td>0.756863</td>\n",
              "      <td>0.729412</td>\n",
              "      <td>0.784314</td>\n",
              "      <td>...</td>\n",
              "      <td>0.876471</td>\n",
              "      <td>0.911765</td>\n",
              "      <td>0.939216</td>\n",
              "      <td>0.872549</td>\n",
              "      <td>0.907843</td>\n",
              "      <td>0.935294</td>\n",
              "      <td>0.874510</td>\n",
              "      <td>0.909804</td>\n",
              "      <td>0.937255</td>\n",
              "      <td>0.869608</td>\n",
              "      <td>0.904902</td>\n",
              "      <td>0.932353</td>\n",
              "      <td>0.866667</td>\n",
              "      <td>0.901961</td>\n",
              "      <td>0.929412</td>\n",
              "      <td>0.860784</td>\n",
              "      <td>0.896078</td>\n",
              "      <td>0.923529</td>\n",
              "      <td>0.850980</td>\n",
              "      <td>0.886275</td>\n",
              "      <td>0.913725</td>\n",
              "      <td>0.850980</td>\n",
              "      <td>0.886275</td>\n",
              "      <td>0.913725</td>\n",
              "      <td>0.856863</td>\n",
              "      <td>0.892157</td>\n",
              "      <td>0.919608</td>\n",
              "      <td>0.856863</td>\n",
              "      <td>0.892157</td>\n",
              "      <td>0.919608</td>\n",
              "      <td>0.856863</td>\n",
              "      <td>0.892157</td>\n",
              "      <td>0.919608</td>\n",
              "      <td>0.839216</td>\n",
              "      <td>0.891176</td>\n",
              "      <td>0.900000</td>\n",
              "      <td>0.837255</td>\n",
              "      <td>0.890196</td>\n",
              "      <td>0.898039</td>\n",
              "      <td>0</td>\n",
              "    </tr>\n",
              "    <tr>\n",
              "      <th>4</th>\n",
              "      <td>0.418954</td>\n",
              "      <td>0.321569</td>\n",
              "      <td>0.007843</td>\n",
              "      <td>0.427451</td>\n",
              "      <td>0.328758</td>\n",
              "      <td>0.007190</td>\n",
              "      <td>0.405229</td>\n",
              "      <td>0.313725</td>\n",
              "      <td>0.007843</td>\n",
              "      <td>0.385948</td>\n",
              "      <td>0.307843</td>\n",
              "      <td>0.011765</td>\n",
              "      <td>0.362745</td>\n",
              "      <td>0.288235</td>\n",
              "      <td>0.003922</td>\n",
              "      <td>0.343137</td>\n",
              "      <td>0.264706</td>\n",
              "      <td>0.007843</td>\n",
              "      <td>0.319608</td>\n",
              "      <td>0.243137</td>\n",
              "      <td>0.000327</td>\n",
              "      <td>0.307516</td>\n",
              "      <td>0.229412</td>\n",
              "      <td>0.001961</td>\n",
              "      <td>0.278431</td>\n",
              "      <td>0.209804</td>\n",
              "      <td>0.003922</td>\n",
              "      <td>0.239216</td>\n",
              "      <td>0.192157</td>\n",
              "      <td>0.007843</td>\n",
              "      <td>0.351634</td>\n",
              "      <td>0.275490</td>\n",
              "      <td>0.052288</td>\n",
              "      <td>0.548693</td>\n",
              "      <td>0.397386</td>\n",
              "      <td>0.095425</td>\n",
              "      <td>0.560458</td>\n",
              "      <td>0.391830</td>\n",
              "      <td>0.057190</td>\n",
              "      <td>0.570588</td>\n",
              "      <td>...</td>\n",
              "      <td>0.527124</td>\n",
              "      <td>0.439216</td>\n",
              "      <td>0.105882</td>\n",
              "      <td>0.549020</td>\n",
              "      <td>0.450980</td>\n",
              "      <td>0.121569</td>\n",
              "      <td>0.549020</td>\n",
              "      <td>0.447059</td>\n",
              "      <td>0.118301</td>\n",
              "      <td>0.549020</td>\n",
              "      <td>0.443137</td>\n",
              "      <td>0.125490</td>\n",
              "      <td>0.545098</td>\n",
              "      <td>0.439216</td>\n",
              "      <td>0.121569</td>\n",
              "      <td>0.541176</td>\n",
              "      <td>0.439216</td>\n",
              "      <td>0.131373</td>\n",
              "      <td>0.533660</td>\n",
              "      <td>0.435294</td>\n",
              "      <td>0.137255</td>\n",
              "      <td>0.537582</td>\n",
              "      <td>0.447059</td>\n",
              "      <td>0.145425</td>\n",
              "      <td>0.549020</td>\n",
              "      <td>0.454902</td>\n",
              "      <td>0.166667</td>\n",
              "      <td>0.562745</td>\n",
              "      <td>0.455229</td>\n",
              "      <td>0.186275</td>\n",
              "      <td>0.590523</td>\n",
              "      <td>0.470588</td>\n",
              "      <td>0.205882</td>\n",
              "      <td>0.592810</td>\n",
              "      <td>0.478431</td>\n",
              "      <td>0.217647</td>\n",
              "      <td>0.596078</td>\n",
              "      <td>0.478431</td>\n",
              "      <td>0.233333</td>\n",
              "      <td>0</td>\n",
              "    </tr>\n",
              "  </tbody>\n",
              "</table>\n",
              "<p>5 rows × 67501 columns</p>\n",
              "</div>"
            ],
            "text/plain": [
              "          0         1         2         3  ...     67497     67498     67499  Target\n",
              "0  0.827451  0.862745  0.652941  0.839216  ...  0.541176  0.427451  0.390196       0\n",
              "1  0.121569  0.121569  0.121569  0.199722  ...  0.835294  0.831373  0.850980       0\n",
              "2  0.866013  0.408876  0.248521  0.566203  ...  0.443137  0.344444  0.262745       0\n",
              "3  0.854902  0.768627  0.705882  0.850980  ...  0.837255  0.890196  0.898039       0\n",
              "4  0.418954  0.321569  0.007843  0.427451  ...  0.596078  0.478431  0.233333       0\n",
              "\n",
              "[5 rows x 67501 columns]"
            ]
          },
          "metadata": {
            "tags": []
          },
          "execution_count": 5
        }
      ]
    },
    {
      "cell_type": "code",
      "metadata": {
        "id": "wfG8CEIhwlj6"
      },
      "source": [
        "from sklearn.model_selection import train_test_split\n",
        "x_train,x_test,y_train,y_test = train_test_split(flat_data,target,test_size=0.3,random_state=109)"
      ],
      "execution_count": null,
      "outputs": []
    },
    {
      "cell_type": "markdown",
      "metadata": {
        "id": "A1Tgz2rVlyly"
      },
      "source": [
        "**Applying Algorithm**"
      ]
    },
    {
      "cell_type": "code",
      "metadata": {
        "id": "Kxbwh34gxV2A"
      },
      "source": [
        "from sklearn.svm import SVC\n",
        "model=SVC()\n",
        "model.fit(x_train,y_train)\n",
        "y_pred=model.predict(x_test)"
      ],
      "execution_count": null,
      "outputs": []
    },
    {
      "cell_type": "markdown",
      "metadata": {
        "id": "AtG8NnbPSj2U"
      },
      "source": [
        "**Finding best parameters using GridSearchCV**"
      ]
    },
    {
      "cell_type": "code",
      "metadata": {
        "colab": {
          "base_uri": "https://localhost:8080/"
        },
        "id": "VFvKLi7RxsOR",
        "outputId": "e1715129-ac6b-44da-b60c-810a36d6c50e"
      },
      "source": [
        "from sklearn.model_selection import GridSearchCV\n",
        "from sklearn import svm\n",
        "param = [\n",
        "         {'C' : [1,10,100,1000], 'kernel' : ['linear']},\n",
        "         {'C' : [1,10,100,1000], 'gamma' : [0.001,0.0001], 'kernel' : ['rbf']}\n",
        "]\n",
        "svc=svm.SVC(probability=True)\n",
        "clf=GridSearchCV(svc,param)\n",
        "clf.fit(x_train,y_train)"
      ],
      "execution_count": null,
      "outputs": [
        {
          "output_type": "execute_result",
          "data": {
            "text/plain": [
              "GridSearchCV(cv=None, error_score=nan,\n",
              "             estimator=SVC(C=1.0, break_ties=False, cache_size=200,\n",
              "                           class_weight=None, coef0=0.0,\n",
              "                           decision_function_shape='ovr', degree=3,\n",
              "                           gamma='scale', kernel='rbf', max_iter=-1,\n",
              "                           probability=True, random_state=None, shrinking=True,\n",
              "                           tol=0.001, verbose=False),\n",
              "             iid='deprecated', n_jobs=None,\n",
              "             param_grid=[{'C': [1, 10, 100, 1000], 'kernel': ['linear']},\n",
              "                         {'C': [1, 10, 100, 1000], 'gamma': [0.001, 0.0001],\n",
              "                          'kernel': ['rbf']}],\n",
              "             pre_dispatch='2*n_jobs', refit=True, return_train_score=False,\n",
              "             scoring=None, verbose=0)"
            ]
          },
          "metadata": {
            "tags": []
          },
          "execution_count": 8
        }
      ]
    },
    {
      "cell_type": "code",
      "metadata": {
        "colab": {
          "base_uri": "https://localhost:8080/"
        },
        "id": "EmFFBR9-x5VW",
        "outputId": "06e38d4e-e274-4eab-af89-8cc3e6e28faf"
      },
      "source": [
        "y_pred=clf.predict(x_test)\n",
        "y_pred"
      ],
      "execution_count": null,
      "outputs": [
        {
          "output_type": "execute_result",
          "data": {
            "text/plain": [
              "array([0, 0, 0, 1, 0, 0, 1, 0, 0, 1, 1, 1, 1, 0, 1, 0, 0, 0])"
            ]
          },
          "metadata": {
            "tags": []
          },
          "execution_count": 9
        }
      ]
    },
    {
      "cell_type": "code",
      "metadata": {
        "colab": {
          "base_uri": "https://localhost:8080/"
        },
        "id": "5pd2JR293268",
        "outputId": "77947797-cb31-43d4-ff98-ce303462c442"
      },
      "source": [
        "y_test"
      ],
      "execution_count": null,
      "outputs": [
        {
          "output_type": "execute_result",
          "data": {
            "text/plain": [
              "array([0, 0, 0, 1, 0, 0, 1, 0, 0, 1, 1, 1, 1, 0, 1, 0, 0, 0])"
            ]
          },
          "metadata": {
            "tags": []
          },
          "execution_count": 10
        }
      ]
    },
    {
      "cell_type": "code",
      "metadata": {
        "id": "MsLdqEI535g6"
      },
      "source": [
        "from sklearn.metrics import accuracy_score,confusion_matrix,classification_report"
      ],
      "execution_count": null,
      "outputs": []
    },
    {
      "cell_type": "code",
      "metadata": {
        "colab": {
          "base_uri": "https://localhost:8080/"
        },
        "id": "m0TK2Vxi4MMp",
        "outputId": "85158bc0-a483-450a-c0f2-c04d3781eae6"
      },
      "source": [
        "accuracy_score(y_pred,y_test)"
      ],
      "execution_count": null,
      "outputs": [
        {
          "output_type": "execute_result",
          "data": {
            "text/plain": [
              "1.0"
            ]
          },
          "metadata": {
            "tags": []
          },
          "execution_count": 12
        }
      ]
    },
    {
      "cell_type": "code",
      "metadata": {
        "colab": {
          "base_uri": "https://localhost:8080/"
        },
        "id": "nOYTIHX64Ocw",
        "outputId": "eb774637-0fcb-401b-8839-84a03e7836c8"
      },
      "source": [
        "confusion_matrix(y_pred,y_test)"
      ],
      "execution_count": null,
      "outputs": [
        {
          "output_type": "execute_result",
          "data": {
            "text/plain": [
              "array([[11,  0],\n",
              "       [ 0,  7]])"
            ]
          },
          "metadata": {
            "tags": []
          },
          "execution_count": 13
        }
      ]
    },
    {
      "cell_type": "code",
      "metadata": {
        "colab": {
          "base_uri": "https://localhost:8080/"
        },
        "id": "F8EHIXz-43wK",
        "outputId": "337ced1c-b81a-4931-a392-be3f41a73973"
      },
      "source": [
        "print(classification_report(y_pred,y_test))"
      ],
      "execution_count": null,
      "outputs": [
        {
          "output_type": "stream",
          "text": [
            "              precision    recall  f1-score   support\n",
            "\n",
            "           0       1.00      1.00      1.00        11\n",
            "           1       1.00      1.00      1.00         7\n",
            "\n",
            "    accuracy                           1.00        18\n",
            "   macro avg       1.00      1.00      1.00        18\n",
            "weighted avg       1.00      1.00      1.00        18\n",
            "\n"
          ],
          "name": "stdout"
        }
      ]
    },
    {
      "cell_type": "markdown",
      "metadata": {
        "id": "eCkZC2nIevIW"
      },
      "source": [
        "**Saving model**"
      ]
    },
    {
      "cell_type": "code",
      "metadata": {
        "id": "Jvh3co7B47UE"
      },
      "source": [
        "import pickle\n",
        "pickle.dump(clf,open('image_model.p','wb'))"
      ],
      "execution_count": null,
      "outputs": []
    },
    {
      "cell_type": "code",
      "metadata": {
        "id": "WRVCaHMd4-7r"
      },
      "source": [
        "model = pickle.load(open('image_model.p','rb'))"
      ],
      "execution_count": null,
      "outputs": []
    },
    {
      "cell_type": "markdown",
      "metadata": {
        "id": "Hr9LSaiheoj2"
      },
      "source": [
        "**Testing a new image**"
      ]
    },
    {
      "cell_type": "code",
      "metadata": {
        "colab": {
          "base_uri": "https://localhost:8080/",
          "height": 319
        },
        "id": "B1IkH76i5BL0",
        "outputId": "e2e907f1-df00-4e49-a965-6df8a3d7a362"
      },
      "source": [
        "flat_data = []\n",
        "url = input('Enter the URL for mango/brinjal images : ')\n",
        "img = imread(url)\n",
        "img_resized = resize(img,(150,150,3))\n",
        "flat_data.append(img_resized.flatten())\n",
        "flat_data = np.array(flat_data)\n",
        "print(img.shape)\n",
        "plt.imshow(img_resized)\n",
        "y_out = model.predict(flat_data)\n",
        "y_out = categories[y_out[0]]\n",
        "print(f'Predicted output -- {y_out}')"
      ],
      "execution_count": null,
      "outputs": [
        {
          "output_type": "stream",
          "text": [
            "Enter the URL for mango/brinjal images : https://encrypted-tbn0.gstatic.com/images?q=tbn:ANd9GcT2kobii_jxg6ZZXEvghsNp3t9PGHtq2MGs1w&usqp=CAU\n",
            "(225, 225, 3)\n",
            "Predicted output -- Brinjal\n"
          ],
          "name": "stdout"
        },
        {
          "output_type": "display_data",
          "data": {
            "image/png": "[encoded data removed]",
            "text/plain": [
              "<Figure size 432x288 with 1 Axes>"
            ]
          },
          "metadata": {
            "tags": [],
            "needs_background": "light"
          }
        }
      ]
    }
  ]
}